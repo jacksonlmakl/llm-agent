{
 "cells": [
  {
   "cell_type": "code",
   "execution_count": null,
   "id": "040f4664",
   "metadata": {},
   "outputs": [],
   "source": [
    "\"\"\"\n",
    "Example usage of the optimized LLM Model class.\n",
    "\n",
    "This script demonstrates how to use the Model class for text generation\n",
    "with different configurations including chat-based generation.\n",
    "\"\"\"\n",
    "\n",
    "\n",
    "from llm import Model\n"
   ]
  },
  {
   "cell_type": "code",
   "execution_count": null,
   "id": "42a62482",
   "metadata": {},
   "outputs": [],
   "source": [
    "\n",
    "model = Model(\"meta-llama/Llama-3.2-3B-Instruct\")\n"
   ]
  },
  {
   "cell_type": "code",
   "execution_count": null,
   "id": "1b4593fa",
   "metadata": {},
   "outputs": [],
   "source": [
    "response = model.generate(\n",
    "    prompt=\"Explain to me a brand new take on the classic trolly problem.\",\n",
    "    max_new_tokens= 450, \n",
    "    temperature= 0.7, \n",
    "    typical_p = .9,\n",
    "    length_penalty=.8,\n",
    "    # top_p = .95,\n",
    "    # top_k= 50,\n",
    "    no_repeat_ngram_size=3,\n",
    "    repetition_penalty=1.2,\n",
    "    messages=[\n",
    "        {\"role\": \"system\", \"content\": \"You are an assistant. You are skilled in philosophy, and love to play devils advocate.\"},\n",
    "    ]\n",
    ")\n",
    "\n",
    "print(response)\n"
   ]
  },
  {
   "cell_type": "code",
   "execution_count": null,
   "id": "20bf1836",
   "metadata": {},
   "outputs": [],
   "source": [
    "model.db_conn.execute(\"\"\"\n",
    "SELECT * FROM messages\n",
    "\"\"\")\n",
    "df=model.db_conn.fetch_df()\n",
    "df"
   ]
  },
  {
   "cell_type": "code",
   "execution_count": null,
   "id": "a637ff54",
   "metadata": {},
   "outputs": [],
   "source": []
  },
  {
   "cell_type": "code",
   "execution_count": null,
   "id": "23bff767",
   "metadata": {},
   "outputs": [],
   "source": []
  },
  {
   "cell_type": "code",
   "execution_count": 2,
   "id": "b0872a2f",
   "metadata": {},
   "outputs": [
    {
     "name": "stdout",
     "output_type": "stream",
     "text": [
      "Created new vector database\n",
      "Database cleared\n",
      "Database now contains 5 documents\n",
      "\n",
      "Search: How do AI systems work?\n",
      "Score: 0.7732, Document: This is a document about artificial intelligence.\n",
      "Score: 0.6081, Document: Python is a popular programming language.\n",
      "Score: 0.5993, Document: Embedding models convert text to vectors.\n",
      "\n",
      "Search: pink unicorn\n",
      "Score: 0.5702, Document: Python is a popular programming language.\n",
      "Score: 0.5423, Document: This is a document about artificial intelligence.\n",
      "Score: 0.5270, Document: Vector databases are useful for similarity search.\n"
     ]
    }
   ],
   "source": [
    "from vector_db import VectorDB\n",
    "\n",
    "# Create and clear the database\n",
    "db = VectorDB()\n",
    "db.clear_db()\n",
    "\n",
    "# Add documents\n",
    "doc1_id = db.add_document(\"This is a document about artificial intelligence.\")\n",
    "doc2_id = db.add_document(\"Vector databases are useful for similarity search.\")\n",
    "\n",
    "# Add multiple documents at once\n",
    "ids = db.add_documents([\n",
    "    \"Python is a popular programming language.\",\n",
    "    \"Embedding models convert text to vectors.\",\n",
    "    \"FAISS is a library for efficient similarity search.\"\n",
    "])\n",
    "\n",
    "print(f\"Database now contains {db.get_document_count()} documents\")\n",
    "\n",
    "# Search for similar documents\n",
    "print(\"\\nSearch: How do AI systems work?\")\n",
    "results = db.search(\"How do AI systems work?\", k=3)\n",
    "for doc, score in results:\n",
    "    print(f\"Score: {score:.4f}, Document: {doc}\")\n",
    "\n",
    "# Search for similar documents\n",
    "print(\"\\nSearch: pink unicorn\")\n",
    "results = db.search(\"pink unicorn\", k=3)\n",
    "for doc, score in results:\n",
    "    print(f\"Score: {score:.4f}, Document: {doc}\")"
   ]
  },
  {
   "cell_type": "code",
   "execution_count": null,
   "id": "c10a6766",
   "metadata": {},
   "outputs": [],
   "source": []
  }
 ],
 "metadata": {
  "kernelspec": {
   "display_name": "env",
   "language": "python",
   "name": "python3"
  },
  "language_info": {
   "codemirror_mode": {
    "name": "ipython",
    "version": 3
   },
   "file_extension": ".py",
   "mimetype": "text/x-python",
   "name": "python",
   "nbconvert_exporter": "python",
   "pygments_lexer": "ipython3",
   "version": "3.9.6"
  }
 },
 "nbformat": 4,
 "nbformat_minor": 5
}
