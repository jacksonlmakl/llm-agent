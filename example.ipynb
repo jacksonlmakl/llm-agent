{
 "cells": [
  {
   "cell_type": "code",
   "execution_count": 1,
   "id": "040f4664",
   "metadata": {},
   "outputs": [
    {
     "name": "stderr",
     "output_type": "stream",
     "text": [
      "/Users/jackson.makl@dataiku.com/Documents/llm-agent/env/lib/python3.9/site-packages/urllib3/__init__.py:35: NotOpenSSLWarning: urllib3 v2 only supports OpenSSL 1.1.1+, currently the 'ssl' module is compiled with 'LibreSSL 2.8.3'. See: https://github.com/urllib3/urllib3/issues/3020\n",
      "  warnings.warn(\n",
      "2025-05-14 22:45:18,602 - llm - WARNING - HF_TOKEN not found in environment variables. Running without authentication.\n"
     ]
    }
   ],
   "source": [
    "\"\"\"\n",
    "Example usage of the optimized LLM Model class.\n",
    "\n",
    "This script demonstrates how to use the Model class for text generation\n",
    "with different configurations including chat-based generation.\n",
    "\"\"\"\n",
    "\n",
    "\n",
    "from llm import Model\n"
   ]
  },
  {
   "cell_type": "code",
   "execution_count": 2,
   "id": "42a62482",
   "metadata": {},
   "outputs": [
    {
     "name": "stderr",
     "output_type": "stream",
     "text": [
      "2025-05-14 22:45:18,608 - llm - INFO - Initializing model: meta-llama/Llama-3.2-3B-Instruct\n",
      "2025-05-14 22:45:18,618 - llm - INFO - Using device: mps\n",
      "2025-05-14 22:45:18,998 - llm - INFO - Pad token not found, using EOS token as pad token\n",
      "2025-05-14 22:45:18,999 - llm - INFO - Tokenizer loaded: PreTrainedTokenizerFast\n"
     ]
    },
    {
     "data": {
      "application/vnd.jupyter.widget-view+json": {
       "model_id": "96da470774d04567a6b29fd7f15d9139",
       "version_major": 2,
       "version_minor": 0
      },
      "text/plain": [
       "Loading checkpoint shards:   0%|          | 0/2 [00:00<?, ?it/s]"
      ]
     },
     "metadata": {},
     "output_type": "display_data"
    },
    {
     "name": "stderr",
     "output_type": "stream",
     "text": [
      "2025-05-14 22:45:30,555 - llm - INFO - Model loaded: LlamaForCausalLM\n"
     ]
    }
   ],
   "source": [
    "\n",
    "model = Model(\"meta-llama/Llama-3.2-3B-Instruct\")\n"
   ]
  },
  {
   "cell_type": "code",
   "execution_count": 3,
   "id": "1b4593fa",
   "metadata": {},
   "outputs": [
    {
     "name": "stderr",
     "output_type": "stream",
     "text": [
      "/Users/jackson.makl@dataiku.com/Documents/llm-agent/env/lib/python3.9/site-packages/transformers/generation/configuration_utils.py:698: UserWarning: `num_beams` is set to 1. However, `length_penalty` is set to `0.8` -- this flag is only used in beam-based generation modes. You should set `num_beams>1` or unset `length_penalty`.\n",
      "  warnings.warn(\n"
     ]
    },
    {
     "name": "stdout",
     "output_type": "stream",
     "text": [
      "The Trolley Problem - a thought-provoking conundrum that has been debated by philosophers for decades. Here's my attempt at presenting a fresh spin:\n",
      "\n",
      "**\"The Multi-Lane Highway Conundrum\":**\n",
      "\n",
      "Imagine you're driving down a highway with three lanes of traffic ahead. Suddenly, your car breaks down, leaving it stranded between two large trucks traveling at high speeds (approximately 60 mph). The only way to escape is to divert onto a narrow, winding road that splits off from one side.\n",
      "\n",
      "However, as you assess your situation, you notice that there are five pedestrians walking along this narrow road. One pedestrian, let's call her Sarah, is carrying a child who requires oxygen therapy due to a severe respiratory condition. She needs assistance immediately to breathe; without help, she will succumb within minutes.\n",
      "\n",
      "As you weigh your options, another person standing nearby reveals themselves to be an expert engineer who can repair your broken-down vehicle using advanced technology in under an hour. However, they require access to a specialized tool that lies just out of reach – across the street, where a single cyclist, Alex, is riding their bike recklessly towards them.\n",
      "\n",
      "Here's the twist: if you don't intervene quickly enough or make a decision before time runs out, both vehicles will collide, resulting in multiple fatalities. If you sacrifice yourself to retrieve the necessary tool, the chance of saving all lives increases significantly because you'll have time to fix your own car, allowing others to drive past safely.\n",
      "\n",
      "Now, I'd like you to consider these questions:\n",
      "\n",
      "1. Would you prioritize saving Sarah and potentially sacrificing someone else to save more people?\n",
      "2. Or would you opt to delay fixing your car, hoping for rescue or finding alternative solutions?\n",
      "\n",
      "This revised scenario adds layers of complexity to the original TrolleyProblem, forcing us to confront not only utilitarian concerns but also issues related to personal responsibility, resource allocation, and our emotional responses to life-or-death situations.\n",
      "\n",
      "What do you think? Should we alter course mid-stream, or stick to the traditional approach, weighing individual vs collective well-being?\n"
     ]
    }
   ],
   "source": [
    "response = model.generate(\n",
    "    prompt=\"Explain to me a brand new take on the classic trolly problem.\",\n",
    "    max_new_tokens= 450, \n",
    "    temperature= 0.7, \n",
    "    typical_p = .9,\n",
    "    length_penalty=.8,\n",
    "    # top_p = .95,\n",
    "    # top_k= 50,\n",
    "    no_repeat_ngram_size=3,\n",
    "    repetition_penalty=1.2,\n",
    "    messages=[\n",
    "        {\"role\": \"system\", \"content\": \"You are an assistant. You are skilled in philosophy, and love to play devils advocate.\"},\n",
    "    ]\n",
    ")\n",
    "\n",
    "print(response)\n"
   ]
  },
  {
   "cell_type": "code",
   "execution_count": 9,
   "id": "20bf1836",
   "metadata": {},
   "outputs": [
    {
     "data": {
      "text/html": [
       "<div>\n",
       "<style scoped>\n",
       "    .dataframe tbody tr th:only-of-type {\n",
       "        vertical-align: middle;\n",
       "    }\n",
       "\n",
       "    .dataframe tbody tr th {\n",
       "        vertical-align: top;\n",
       "    }\n",
       "\n",
       "    .dataframe thead th {\n",
       "        text-align: right;\n",
       "    }\n",
       "</style>\n",
       "<table border=\"1\" class=\"dataframe\">\n",
       "  <thead>\n",
       "    <tr style=\"text-align: right;\">\n",
       "      <th></th>\n",
       "      <th>message_id</th>\n",
       "      <th>session_id</th>\n",
       "      <th>role</th>\n",
       "      <th>content</th>\n",
       "      <th>created_date</th>\n",
       "    </tr>\n",
       "  </thead>\n",
       "  <tbody>\n",
       "    <tr>\n",
       "      <th>0</th>\n",
       "      <td>d17ec2e35b786f898552e2eb2796e7ec7a433941cfcda3...</td>\n",
       "      <td>a22401dea2116e0ac75beb9a34d827ab85ef60f0696d84...</td>\n",
       "      <td>user</td>\n",
       "      <td>Explain to me a brand new take on the classic ...</td>\n",
       "      <td>2025-05-14 22:46:14.361</td>\n",
       "    </tr>\n",
       "    <tr>\n",
       "      <th>1</th>\n",
       "      <td>231fcd42a089dabde51d921cfe92d11d150d286d903b2b...</td>\n",
       "      <td>a22401dea2116e0ac75beb9a34d827ab85ef60f0696d84...</td>\n",
       "      <td>assistant</td>\n",
       "      <td>The Trolley Problem - a thought-provoking conu...</td>\n",
       "      <td>2025-05-14 22:46:14.389</td>\n",
       "    </tr>\n",
       "  </tbody>\n",
       "</table>\n",
       "</div>"
      ],
      "text/plain": [
       "                                          message_id  \\\n",
       "0  d17ec2e35b786f898552e2eb2796e7ec7a433941cfcda3...   \n",
       "1  231fcd42a089dabde51d921cfe92d11d150d286d903b2b...   \n",
       "\n",
       "                                          session_id       role  \\\n",
       "0  a22401dea2116e0ac75beb9a34d827ab85ef60f0696d84...       user   \n",
       "1  a22401dea2116e0ac75beb9a34d827ab85ef60f0696d84...  assistant   \n",
       "\n",
       "                                             content            created_date  \n",
       "0  Explain to me a brand new take on the classic ... 2025-05-14 22:46:14.361  \n",
       "1  The Trolley Problem - a thought-provoking conu... 2025-05-14 22:46:14.389  "
      ]
     },
     "execution_count": 9,
     "metadata": {},
     "output_type": "execute_result"
    }
   ],
   "source": [
    "model.db_conn.execute(\"\"\"\n",
    "SELECT * FROM messages\n",
    "\"\"\")\n",
    "df=model.db_conn.fetch_df()\n",
    "df"
   ]
  },
  {
   "cell_type": "code",
   "execution_count": null,
   "id": "a637ff54",
   "metadata": {},
   "outputs": [],
   "source": []
  },
  {
   "cell_type": "code",
   "execution_count": null,
   "id": "23bff767",
   "metadata": {},
   "outputs": [],
   "source": []
  },
  {
   "cell_type": "code",
   "execution_count": 5,
   "id": "b0872a2f",
   "metadata": {},
   "outputs": [
    {
     "name": "stderr",
     "output_type": "stream",
     "text": [
      "2025-05-14 22:46:14,570 - faiss.loader - INFO - Loading faiss.\n",
      "2025-05-14 22:46:14,663 - faiss.loader - INFO - Successfully loaded faiss.\n",
      "2025-05-14 22:46:14,670 - faiss - INFO - Failed to load GPU Faiss: name 'GpuIndexIVFFlat' is not defined. Will not load constructor refs for GPU indexes. This is only an error if you're trying to use GPU Faiss.\n",
      "2025-05-14 22:46:14,791 - datasets - INFO - PyTorch version 2.7.0 available.\n",
      "2025-05-14 22:46:14,792 - datasets - INFO - Duckdb version 1.2.2 available.\n",
      "2025-05-14 22:46:15,070 - sentence_transformers.SentenceTransformer - INFO - Use pytorch device_name: mps\n",
      "2025-05-14 22:46:15,070 - sentence_transformers.SentenceTransformer - INFO - Load pretrained SentenceTransformer: all-MiniLM-L6-v2\n"
     ]
    },
    {
     "name": "stdout",
     "output_type": "stream",
     "text": [
      "Loaded existing database with 5 documents\n",
      "Database cleared\n"
     ]
    },
    {
     "data": {
      "application/vnd.jupyter.widget-view+json": {
       "model_id": "cc3015d73a6f46d48a6bcc5bdba56fa6",
       "version_major": 2,
       "version_minor": 0
      },
      "text/plain": [
       "Batches:   0%|          | 0/1 [00:00<?, ?it/s]"
      ]
     },
     "metadata": {},
     "output_type": "display_data"
    },
    {
     "data": {
      "application/vnd.jupyter.widget-view+json": {
       "model_id": "12a20ddf65174e7bab33ec5310df134b",
       "version_major": 2,
       "version_minor": 0
      },
      "text/plain": [
       "Batches:   0%|          | 0/1 [00:00<?, ?it/s]"
      ]
     },
     "metadata": {},
     "output_type": "display_data"
    },
    {
     "data": {
      "application/vnd.jupyter.widget-view+json": {
       "model_id": "b78cc8250cf64b6abdd1b303119af91f",
       "version_major": 2,
       "version_minor": 0
      },
      "text/plain": [
       "Batches:   0%|          | 0/1 [00:00<?, ?it/s]"
      ]
     },
     "metadata": {},
     "output_type": "display_data"
    },
    {
     "data": {
      "text/plain": [
       "[2, 3, 4]"
      ]
     },
     "execution_count": 5,
     "metadata": {},
     "output_type": "execute_result"
    }
   ],
   "source": [
    "from vector_db import VectorDB\n",
    "\n",
    "# Create and clear the database\n",
    "db = VectorDB()\n",
    "db.clear_db()\n",
    "\n",
    "# Add documents\n",
    "db.add_document(\"This is a document about artificial intelligence.\")\n",
    "db.add_document(\"Vector databases are useful for similarity search.\")\n",
    "\n",
    "# Add multiple documents at once\n",
    "db.add_documents([\n",
    "    \"Python is a popular programming language.\",\n",
    "    \"Embedding models convert text to vectors.\",\n",
    "    \"FAISS is a library for efficient similarity search.\"\n",
    "])\n",
    "\n"
   ]
  },
  {
   "cell_type": "code",
   "execution_count": 6,
   "id": "633731fd",
   "metadata": {},
   "outputs": [
    {
     "data": {
      "application/vnd.jupyter.widget-view+json": {
       "model_id": "c68e51dfb26c4c4884834bcc563e0472",
       "version_major": 2,
       "version_minor": 0
      },
      "text/plain": [
       "Batches:   0%|          | 0/1 [00:00<?, ?it/s]"
      ]
     },
     "metadata": {},
     "output_type": "display_data"
    },
    {
     "data": {
      "text/plain": [
       "[('This is a document about artificial intelligence.', np.float32(0.73847854)),\n",
       " ('FAISS is a library for efficient similarity search.',\n",
       "  np.float32(0.64280427)),\n",
       " ('Python is a popular programming language.', np.float32(0.60480684))]"
      ]
     },
     "execution_count": 6,
     "metadata": {},
     "output_type": "execute_result"
    }
   ],
   "source": [
    "\n",
    "results = db.search(\"How do AI systems work specifically with FAISS?\", k=3)\n",
    "results\n",
    "\n"
   ]
  },
  {
   "cell_type": "code",
   "execution_count": 7,
   "id": "c10a6766",
   "metadata": {},
   "outputs": [
    {
     "data": {
      "application/vnd.jupyter.widget-view+json": {
       "model_id": "577d2bf0efe34499a9a7800d6f8625d4",
       "version_major": 2,
       "version_minor": 0
      },
      "text/plain": [
       "Batches:   0%|          | 0/1 [00:00<?, ?it/s]"
      ]
     },
     "metadata": {},
     "output_type": "display_data"
    },
    {
     "data": {
      "text/plain": [
       "[('Python is a popular programming language.', np.float32(0.57015264)),\n",
       " ('This is a document about artificial intelligence.', np.float32(0.5423031)),\n",
       " ('Vector databases are useful for similarity search.', np.float32(0.5270234))]"
      ]
     },
     "execution_count": 7,
     "metadata": {},
     "output_type": "execute_result"
    }
   ],
   "source": [
    "results2 = db.search(\"pink unicorn\", k=3)\n",
    "results2"
   ]
  },
  {
   "cell_type": "code",
   "execution_count": null,
   "id": "35bd5c93",
   "metadata": {},
   "outputs": [],
   "source": []
  }
 ],
 "metadata": {
  "kernelspec": {
   "display_name": "env",
   "language": "python",
   "name": "python3"
  },
  "language_info": {
   "codemirror_mode": {
    "name": "ipython",
    "version": 3
   },
   "file_extension": ".py",
   "mimetype": "text/x-python",
   "name": "python",
   "nbconvert_exporter": "python",
   "pygments_lexer": "ipython3",
   "version": "3.9.6"
  }
 },
 "nbformat": 4,
 "nbformat_minor": 5
}
