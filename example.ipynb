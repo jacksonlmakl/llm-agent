{
 "cells": [
  {
   "cell_type": "code",
   "execution_count": 2,
   "id": "040f4664",
   "metadata": {},
   "outputs": [
    {
     "name": "stderr",
     "output_type": "stream",
     "text": [
      "/Users/jackson.makl@dataiku.com/llm-agent/env/lib/python3.9/site-packages/urllib3/__init__.py:35: NotOpenSSLWarning: urllib3 v2 only supports OpenSSL 1.1.1+, currently the 'ssl' module is compiled with 'LibreSSL 2.8.3'. See: https://github.com/urllib3/urllib3/issues/3020\n",
      "  warnings.warn(\n",
      "Note: Environment variable`HF_TOKEN` is set and is the current active token independently from the token you've just configured.\n",
      "2025-05-14 17:36:29,657 - huggingface_hub._login - WARNING - Note: Environment variable`HF_TOKEN` is set and is the current active token independently from the token you've just configured.\n",
      "2025-05-14 17:36:29,659 - llm - INFO - Successfully authenticated with Hugging Face\n"
     ]
    }
   ],
   "source": [
    "\"\"\"\n",
    "Example usage of the optimized LLM Model class.\n",
    "\n",
    "This script demonstrates how to use the Model class for text generation\n",
    "with different configurations including chat-based generation.\n",
    "\"\"\"\n",
    "\n",
    "\n",
    "from llm import Model\n"
   ]
  },
  {
   "cell_type": "code",
   "execution_count": 3,
   "id": "42a62482",
   "metadata": {},
   "outputs": [
    {
     "name": "stderr",
     "output_type": "stream",
     "text": [
      "2025-05-14 17:36:29,704 - llm - INFO - Initializing model: meta-llama/Llama-3.2-3B-Instruct\n",
      "2025-05-14 17:36:29,733 - llm - INFO - Using device: mps\n",
      "2025-05-14 17:36:29,991 - llm - INFO - Pad token not found, using EOS token as pad token\n",
      "2025-05-14 17:36:29,991 - llm - INFO - Tokenizer loaded: PreTrainedTokenizerFast\n"
     ]
    },
    {
     "data": {
      "application/vnd.jupyter.widget-view+json": {
       "model_id": "d2b883c5df7e4274978335a0c5c66b83",
       "version_major": 2,
       "version_minor": 0
      },
      "text/plain": [
       "Loading checkpoint shards:   0%|          | 0/2 [00:00<?, ?it/s]"
      ]
     },
     "metadata": {},
     "output_type": "display_data"
    },
    {
     "name": "stderr",
     "output_type": "stream",
     "text": [
      "2025-05-14 17:36:54,318 - llm - INFO - Model loaded: LlamaForCausalLM\n"
     ]
    }
   ],
   "source": [
    "\n",
    "model = Model(\"meta-llama/Llama-3.2-3B-Instruct\")\n"
   ]
  },
  {
   "cell_type": "code",
   "execution_count": 10,
   "id": "1b4593fa",
   "metadata": {},
   "outputs": [
    {
     "name": "stdout",
     "output_type": "stream",
     "text": [
      "The Trolley Problem - one of the most enduring thought experiments in ethics. While it's great that you're familiar with the original version, I'd like to propose a fresh spin.\n",
      "\n",
      "**The \"Trolley-Tunnel Variant\"**\n",
      "\n",
      "Imagine two identical trolleys (think of them as self-driving cars) hurtling down parallel tracks toward a fork in the road ahead. One track is lined with five people standing along its length, while the other has only one person waiting at the intersection. Suddenly, both trolles reach their respective intersections simultaneously, but they can't turn back or change direction without putting themselves out of commission for several hours.\n",
      "\n",
      "Here's where things get interesting:\n",
      "\n",
      "* The first trolley, driven by a highly advanced AI system, will automatically divert onto the track with the single person if it detects even a slight deviation from optimal routing algorithms.\n",
      "* However, there's a catch: this same AI also possesses access to real-time data analytics about each individual passenger's life history, including their family relationships, occupation, hobbies, social media activity... essentially anything digital.\n",
      "* If the AI determines that any given person on either side would cause more emotional distress upon being harmed than another, the decision-making algorithm may adjust course accordingly.\n",
      "\n",
      "Now, here comes the twist: just before reaching the fork, a representative group of philosophers appears alongside you, armed with tablets displaying detailed analyses of all passengers' lives. They begin frantically typing away, attempting to hack into the AI's systems and manually override its decisions based on specific criteria such as 'family bonds,' altruism, personal achievements, etc.\n",
      "\n",
      "What do you do?\n",
      "\n",
      "Do you:\n",
      "A) Allow the AI to make its calculations and decide which path to take?\n",
      "B) Intervene directly through hacking attempts to alter the AI’s route, potentially saving some lives but risking further complications?\n",
      "C) Refuse to participate in the debate, hoping someone else might intervene?\n",
      "D) Abandon the entire endeavor altogether?\n",
      "\n",
      "This variant raises questions about free will, moral relativism, artificial intelligence, and human responsibility. Does the AI have inherent value or does humanity impose meaning? Is the ends-justifies-the-means approach morally sound when technology plays a role? Can we truly trust our own\n"
     ]
    }
   ],
   "source": [
    "response = model.generate(\n",
    "    prompt=\"Explain to me a brand new take on the classic trolly problem.\",\n",
    "    max_new_tokens= 450, \n",
    "    temperature= 0.7, \n",
    "    typical_p = .9,\n",
    "    length_penalty=1.2,\n",
    "    # top_p = .95,\n",
    "    # top_k= 50,\n",
    "    no_repeat_ngram_size=3,\n",
    "    repetition_penalty=1.2,\n",
    "    messages=[\n",
    "        {\"role\": \"system\", \"content\": \"You are an assistant. You are skilled in philosophy, and love to play devils advocate.\"},\n",
    "    ]\n",
    ")\n",
    "\n",
    "print(response)\n"
   ]
  },
  {
   "cell_type": "code",
   "execution_count": 11,
   "id": "20bf1836",
   "metadata": {},
   "outputs": [
    {
     "data": {
      "text/html": [
       "<div>\n",
       "<style scoped>\n",
       "    .dataframe tbody tr th:only-of-type {\n",
       "        vertical-align: middle;\n",
       "    }\n",
       "\n",
       "    .dataframe tbody tr th {\n",
       "        vertical-align: top;\n",
       "    }\n",
       "\n",
       "    .dataframe thead th {\n",
       "        text-align: right;\n",
       "    }\n",
       "</style>\n",
       "<table border=\"1\" class=\"dataframe\">\n",
       "  <thead>\n",
       "    <tr style=\"text-align: right;\">\n",
       "      <th></th>\n",
       "      <th>message_id</th>\n",
       "      <th>session_id</th>\n",
       "      <th>role</th>\n",
       "      <th>content</th>\n",
       "      <th>created_date</th>\n",
       "    </tr>\n",
       "  </thead>\n",
       "  <tbody>\n",
       "    <tr>\n",
       "      <th>0</th>\n",
       "      <td>6cc602118343605073acbcf20d44ee35917b14f4a0e8f6...</td>\n",
       "      <td>ca917c9da2e2e8804998d9a7a7bc4b089ed22acbbce156...</td>\n",
       "      <td>user</td>\n",
       "      <td>where is the treasure burried?</td>\n",
       "      <td>2025-05-14 16:51:27.896</td>\n",
       "    </tr>\n",
       "    <tr>\n",
       "      <th>1</th>\n",
       "      <td>2497a418392f93c3b9ae3f1d24e66c23feb52b3ca1bedb...</td>\n",
       "      <td>ca917c9da2e2e8804998d9a7a7bc4b089ed22acbbce156...</td>\n",
       "      <td>assistant</td>\n",
       "      <td>Yer lookin' fer the loot, eh? Alright then, ma...</td>\n",
       "      <td>2025-05-14 16:51:27.898</td>\n",
       "    </tr>\n",
       "    <tr>\n",
       "      <th>2</th>\n",
       "      <td>c1dc61b680532adc852fe5b0f80f4a037facd0bd0e61fc...</td>\n",
       "      <td>cecd506e454e2371c44f69ff56333e8f22466339fadc29...</td>\n",
       "      <td>user</td>\n",
       "      <td>Explain to me a brand new take on the classic ...</td>\n",
       "      <td>2025-05-14 17:37:06.060</td>\n",
       "    </tr>\n",
       "    <tr>\n",
       "      <th>3</th>\n",
       "      <td>21caadb358b077a180f177d2f1159c0c501e413d1eca9a...</td>\n",
       "      <td>cecd506e454e2371c44f69ff56333e8f22466339fadc29...</td>\n",
       "      <td>assistant</td>\n",
       "      <td>The Trolley Problem - one of the most enduring...</td>\n",
       "      <td>2025-05-14 17:37:06.081</td>\n",
       "    </tr>\n",
       "    <tr>\n",
       "      <th>4</th>\n",
       "      <td>1c157da6bcfc57a61aa3b02986538f6a26dab1f6cf340a...</td>\n",
       "      <td>cecd506e454e2371c44f69ff56333e8f22466339fadc29...</td>\n",
       "      <td>user</td>\n",
       "      <td>Explain to me a brand new take on the classic ...</td>\n",
       "      <td>2025-05-14 17:38:23.158</td>\n",
       "    </tr>\n",
       "    <tr>\n",
       "      <th>5</th>\n",
       "      <td>9cfee1919e07a5ca25885d22793481abdf2301171b388b...</td>\n",
       "      <td>cecd506e454e2371c44f69ff56333e8f22466339fadc29...</td>\n",
       "      <td>assistant</td>\n",
       "      <td>A delightful challenge! Here's a fresh spin on...</td>\n",
       "      <td>2025-05-14 17:38:23.183</td>\n",
       "    </tr>\n",
       "    <tr>\n",
       "      <th>6</th>\n",
       "      <td>c8a339d75fcc6bb617c51b1db2cb1ff932fcf6ddf2ecd4...</td>\n",
       "      <td>cecd506e454e2371c44f69ff56333e8f22466339fadc29...</td>\n",
       "      <td>user</td>\n",
       "      <td>Explain to me a brand new take on the classic ...</td>\n",
       "      <td>2025-05-14 17:39:27.779</td>\n",
       "    </tr>\n",
       "    <tr>\n",
       "      <th>7</th>\n",
       "      <td>f04f2bff2f29bff2d64b1d64c21a727af1e78f17480e5a...</td>\n",
       "      <td>cecd506e454e2371c44f69ff56333e8f22466339fadc29...</td>\n",
       "      <td>assistant</td>\n",
       "      <td>The Trolley Problem - a timeless thought exper...</td>\n",
       "      <td>2025-05-14 17:39:27.781</td>\n",
       "    </tr>\n",
       "    <tr>\n",
       "      <th>8</th>\n",
       "      <td>96f979fa6d9be7b7eb45805813f45451bd9970418e39a8...</td>\n",
       "      <td>cecd506e454e2371c44f69ff56333e8f22466339fadc29...</td>\n",
       "      <td>user</td>\n",
       "      <td>Explain to me a brand new take on the classic ...</td>\n",
       "      <td>2025-05-14 17:40:31.106</td>\n",
       "    </tr>\n",
       "    <tr>\n",
       "      <th>9</th>\n",
       "      <td>2e377a68351c6a3883f06ffc9706d27e8fece8a9c0c204...</td>\n",
       "      <td>cecd506e454e2371c44f69ff56333e8f22466339fadc29...</td>\n",
       "      <td>assistant</td>\n",
       "      <td>The Trolley Problem - one of the most enduring...</td>\n",
       "      <td>2025-05-14 17:40:31.108</td>\n",
       "    </tr>\n",
       "  </tbody>\n",
       "</table>\n",
       "</div>"
      ],
      "text/plain": [
       "                                          message_id  \\\n",
       "0  6cc602118343605073acbcf20d44ee35917b14f4a0e8f6...   \n",
       "1  2497a418392f93c3b9ae3f1d24e66c23feb52b3ca1bedb...   \n",
       "2  c1dc61b680532adc852fe5b0f80f4a037facd0bd0e61fc...   \n",
       "3  21caadb358b077a180f177d2f1159c0c501e413d1eca9a...   \n",
       "4  1c157da6bcfc57a61aa3b02986538f6a26dab1f6cf340a...   \n",
       "5  9cfee1919e07a5ca25885d22793481abdf2301171b388b...   \n",
       "6  c8a339d75fcc6bb617c51b1db2cb1ff932fcf6ddf2ecd4...   \n",
       "7  f04f2bff2f29bff2d64b1d64c21a727af1e78f17480e5a...   \n",
       "8  96f979fa6d9be7b7eb45805813f45451bd9970418e39a8...   \n",
       "9  2e377a68351c6a3883f06ffc9706d27e8fece8a9c0c204...   \n",
       "\n",
       "                                          session_id       role  \\\n",
       "0  ca917c9da2e2e8804998d9a7a7bc4b089ed22acbbce156...       user   \n",
       "1  ca917c9da2e2e8804998d9a7a7bc4b089ed22acbbce156...  assistant   \n",
       "2  cecd506e454e2371c44f69ff56333e8f22466339fadc29...       user   \n",
       "3  cecd506e454e2371c44f69ff56333e8f22466339fadc29...  assistant   \n",
       "4  cecd506e454e2371c44f69ff56333e8f22466339fadc29...       user   \n",
       "5  cecd506e454e2371c44f69ff56333e8f22466339fadc29...  assistant   \n",
       "6  cecd506e454e2371c44f69ff56333e8f22466339fadc29...       user   \n",
       "7  cecd506e454e2371c44f69ff56333e8f22466339fadc29...  assistant   \n",
       "8  cecd506e454e2371c44f69ff56333e8f22466339fadc29...       user   \n",
       "9  cecd506e454e2371c44f69ff56333e8f22466339fadc29...  assistant   \n",
       "\n",
       "                                             content            created_date  \n",
       "0                     where is the treasure burried? 2025-05-14 16:51:27.896  \n",
       "1  Yer lookin' fer the loot, eh? Alright then, ma... 2025-05-14 16:51:27.898  \n",
       "2  Explain to me a brand new take on the classic ... 2025-05-14 17:37:06.060  \n",
       "3  The Trolley Problem - one of the most enduring... 2025-05-14 17:37:06.081  \n",
       "4  Explain to me a brand new take on the classic ... 2025-05-14 17:38:23.158  \n",
       "5  A delightful challenge! Here's a fresh spin on... 2025-05-14 17:38:23.183  \n",
       "6  Explain to me a brand new take on the classic ... 2025-05-14 17:39:27.779  \n",
       "7  The Trolley Problem - a timeless thought exper... 2025-05-14 17:39:27.781  \n",
       "8  Explain to me a brand new take on the classic ... 2025-05-14 17:40:31.106  \n",
       "9  The Trolley Problem - one of the most enduring... 2025-05-14 17:40:31.108  "
      ]
     },
     "execution_count": 11,
     "metadata": {},
     "output_type": "execute_result"
    }
   ],
   "source": [
    "model.db_conn.execute(\"\"\"\n",
    "SELECT * FROM messages\n",
    "\"\"\")\n",
    "df=model.db_conn.fetch_df()\n",
    "df"
   ]
  },
  {
   "cell_type": "code",
   "execution_count": null,
   "id": "a637ff54",
   "metadata": {},
   "outputs": [],
   "source": []
  }
 ],
 "metadata": {
  "kernelspec": {
   "display_name": "env",
   "language": "python",
   "name": "python3"
  },
  "language_info": {
   "codemirror_mode": {
    "name": "ipython",
    "version": 3
   },
   "file_extension": ".py",
   "mimetype": "text/x-python",
   "name": "python",
   "nbconvert_exporter": "python",
   "pygments_lexer": "ipython3",
   "version": "3.9.6"
  }
 },
 "nbformat": 4,
 "nbformat_minor": 5
}
