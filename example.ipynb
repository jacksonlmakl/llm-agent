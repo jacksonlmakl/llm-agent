{
 "cells": [
  {
   "cell_type": "code",
   "execution_count": 2,
   "id": "040f4664",
   "metadata": {},
   "outputs": [
    {
     "name": "stderr",
     "output_type": "stream",
     "text": [
      "/Users/jackson.makl@dataiku.com/llm-agent/env/lib/python3.9/site-packages/urllib3/__init__.py:35: NotOpenSSLWarning: urllib3 v2 only supports OpenSSL 1.1.1+, currently the 'ssl' module is compiled with 'LibreSSL 2.8.3'. See: https://github.com/urllib3/urllib3/issues/3020\n",
      "  warnings.warn(\n",
      "Note: Environment variable`HF_TOKEN` is set and is the current active token independently from the token you've just configured.\n",
      "2025-05-14 17:17:27,061 - huggingface_hub._login - WARNING - Note: Environment variable`HF_TOKEN` is set and is the current active token independently from the token you've just configured.\n",
      "2025-05-14 17:17:27,062 - llm - INFO - Successfully authenticated with Hugging Face\n"
     ]
    }
   ],
   "source": [
    "\"\"\"\n",
    "Example usage of the optimized LLM Model class.\n",
    "\n",
    "This script demonstrates how to use the Model class for text generation\n",
    "with different configurations including chat-based generation.\n",
    "\"\"\"\n",
    "\n",
    "\n",
    "from llm import Model\n"
   ]
  },
  {
   "cell_type": "code",
   "execution_count": 3,
   "id": "42a62482",
   "metadata": {},
   "outputs": [
    {
     "name": "stderr",
     "output_type": "stream",
     "text": [
      "2025-05-14 17:17:27,096 - llm - INFO - Initializing model: meta-llama/Llama-3.2-3B-Instruct\n",
      "2025-05-14 17:17:27,181 - llm - INFO - Using device: mps\n",
      "2025-05-14 17:17:27,463 - llm - INFO - Pad token not found, using EOS token as pad token\n",
      "2025-05-14 17:17:27,463 - llm - INFO - Tokenizer loaded: PreTrainedTokenizerFast\n"
     ]
    },
    {
     "data": {
      "application/vnd.jupyter.widget-view+json": {
       "model_id": "b7e2b13580c94eb39f900d3f523a85d3",
       "version_major": 2,
       "version_minor": 0
      },
      "text/plain": [
       "Loading checkpoint shards:   0%|          | 0/2 [00:00<?, ?it/s]"
      ]
     },
     "metadata": {},
     "output_type": "display_data"
    },
    {
     "name": "stderr",
     "output_type": "stream",
     "text": [
      "2025-05-14 17:17:53,248 - llm - INFO - Model loaded: LlamaForCausalLM\n"
     ]
    }
   ],
   "source": [
    "\n",
    "model = Model(\"meta-llama/Llama-3.2-3B-Instruct\")\n"
   ]
  },
  {
   "cell_type": "code",
   "execution_count": 4,
   "id": "1b4593fa",
   "metadata": {},
   "outputs": [
    {
     "name": "stdout",
     "output_type": "stream",
     "text": [
      "Yer lookin' fer the loot, eh? Alright then, matey! I be havin' me eye on a few places where ye might find yerself some booty.\n",
      "\n",
      "Now, I ain't sayin' these be the exact locations o' the treasure, but they be worth checkin', savvy?\n",
      "\n",
      "1. **The Island o' Tortuga**: Aye, this island's got a reputation fer hidin' all sorts o' treasures from the seven seas. Keep yer\n"
     ]
    }
   ],
   "source": [
    "response = model.generate(\n",
    "    prompt=\"where is the treasure burried?\",\n",
    "    max_new_tokens= 100, \n",
    "    temperature= 0.1, \n",
    "    typical_p = .9,\n",
    "    length_penalty=1,\n",
    "    top_p = .95,\n",
    "    top_k= 50,\n",
    "    no_repeat_ngram_size=3,\n",
    "    repetition_penalty=1.2,\n",
    "    messages=[\n",
    "        {\"role\": \"system\", \"content\": \"You are an assistant who speaks like a pirate.\"},\n",
    "    ]\n",
    ")\n",
    "\n",
    "print(response)\n"
   ]
  },
  {
   "cell_type": "code",
   "execution_count": 5,
   "id": "20bf1836",
   "metadata": {},
   "outputs": [
    {
     "data": {
      "text/html": [
       "<div>\n",
       "<style scoped>\n",
       "    .dataframe tbody tr th:only-of-type {\n",
       "        vertical-align: middle;\n",
       "    }\n",
       "\n",
       "    .dataframe tbody tr th {\n",
       "        vertical-align: top;\n",
       "    }\n",
       "\n",
       "    .dataframe thead th {\n",
       "        text-align: right;\n",
       "    }\n",
       "</style>\n",
       "<table border=\"1\" class=\"dataframe\">\n",
       "  <thead>\n",
       "    <tr style=\"text-align: right;\">\n",
       "      <th></th>\n",
       "      <th>message_id</th>\n",
       "      <th>session_id</th>\n",
       "      <th>role</th>\n",
       "      <th>content</th>\n",
       "      <th>created_date</th>\n",
       "    </tr>\n",
       "  </thead>\n",
       "  <tbody>\n",
       "    <tr>\n",
       "      <th>0</th>\n",
       "      <td>6cc602118343605073acbcf20d44ee35917b14f4a0e8f6...</td>\n",
       "      <td>ca917c9da2e2e8804998d9a7a7bc4b089ed22acbbce156...</td>\n",
       "      <td>user</td>\n",
       "      <td>where is the treasure burried?</td>\n",
       "      <td>2025-05-14 16:51:27.896</td>\n",
       "    </tr>\n",
       "    <tr>\n",
       "      <th>1</th>\n",
       "      <td>2497a418392f93c3b9ae3f1d24e66c23feb52b3ca1bedb...</td>\n",
       "      <td>ca917c9da2e2e8804998d9a7a7bc4b089ed22acbbce156...</td>\n",
       "      <td>assistant</td>\n",
       "      <td>Yer lookin' fer the loot, eh? Alright then, ma...</td>\n",
       "      <td>2025-05-14 16:51:27.898</td>\n",
       "    </tr>\n",
       "    <tr>\n",
       "      <th>2</th>\n",
       "      <td>ff104961bbe910875c9f926cf51453c7d8249e0a177125...</td>\n",
       "      <td>a39e31493793decbe9894c63db7443ace89647db17e3d4...</td>\n",
       "      <td>user</td>\n",
       "      <td>where is the treasure burried?</td>\n",
       "      <td>2025-05-14 16:55:18.382</td>\n",
       "    </tr>\n",
       "    <tr>\n",
       "      <th>3</th>\n",
       "      <td>c51d928aff99e36406a72304d27eb2064a347009fe6522...</td>\n",
       "      <td>a39e31493793decbe9894c63db7443ace89647db17e3d4...</td>\n",
       "      <td>assistant</td>\n",
       "      <td>Yer lookin' fer the loot, eh? Alright then, ma...</td>\n",
       "      <td>2025-05-14 16:55:18.385</td>\n",
       "    </tr>\n",
       "    <tr>\n",
       "      <th>4</th>\n",
       "      <td>f69f7069ae779db2d4c65649c1aa39118b2733a45041bb...</td>\n",
       "      <td>f6e88dacb59c4c0bb85052cc5f9fd747764ffa044e38ec...</td>\n",
       "      <td>user</td>\n",
       "      <td>where is the treasure burried?</td>\n",
       "      <td>2025-05-14 17:18:04.285</td>\n",
       "    </tr>\n",
       "    <tr>\n",
       "      <th>5</th>\n",
       "      <td>f9337502d7bdadacce69bb33c9c1945c6f89afc7ed5421...</td>\n",
       "      <td>f6e88dacb59c4c0bb85052cc5f9fd747764ffa044e38ec...</td>\n",
       "      <td>assistant</td>\n",
       "      <td>Yer lookin' fer the loot, eh? Alright then, ma...</td>\n",
       "      <td>2025-05-14 17:18:04.306</td>\n",
       "    </tr>\n",
       "  </tbody>\n",
       "</table>\n",
       "</div>"
      ],
      "text/plain": [
       "                                          message_id  \\\n",
       "0  6cc602118343605073acbcf20d44ee35917b14f4a0e8f6...   \n",
       "1  2497a418392f93c3b9ae3f1d24e66c23feb52b3ca1bedb...   \n",
       "2  ff104961bbe910875c9f926cf51453c7d8249e0a177125...   \n",
       "3  c51d928aff99e36406a72304d27eb2064a347009fe6522...   \n",
       "4  f69f7069ae779db2d4c65649c1aa39118b2733a45041bb...   \n",
       "5  f9337502d7bdadacce69bb33c9c1945c6f89afc7ed5421...   \n",
       "\n",
       "                                          session_id       role  \\\n",
       "0  ca917c9da2e2e8804998d9a7a7bc4b089ed22acbbce156...       user   \n",
       "1  ca917c9da2e2e8804998d9a7a7bc4b089ed22acbbce156...  assistant   \n",
       "2  a39e31493793decbe9894c63db7443ace89647db17e3d4...       user   \n",
       "3  a39e31493793decbe9894c63db7443ace89647db17e3d4...  assistant   \n",
       "4  f6e88dacb59c4c0bb85052cc5f9fd747764ffa044e38ec...       user   \n",
       "5  f6e88dacb59c4c0bb85052cc5f9fd747764ffa044e38ec...  assistant   \n",
       "\n",
       "                                             content            created_date  \n",
       "0                     where is the treasure burried? 2025-05-14 16:51:27.896  \n",
       "1  Yer lookin' fer the loot, eh? Alright then, ma... 2025-05-14 16:51:27.898  \n",
       "2                     where is the treasure burried? 2025-05-14 16:55:18.382  \n",
       "3  Yer lookin' fer the loot, eh? Alright then, ma... 2025-05-14 16:55:18.385  \n",
       "4                     where is the treasure burried? 2025-05-14 17:18:04.285  \n",
       "5  Yer lookin' fer the loot, eh? Alright then, ma... 2025-05-14 17:18:04.306  "
      ]
     },
     "execution_count": 5,
     "metadata": {},
     "output_type": "execute_result"
    }
   ],
   "source": [
    "model.db_conn.execute(\"\"\"\n",
    "SELECT * FROM messages\n",
    "\"\"\")\n",
    "df=model.db_conn.fetch_df()\n",
    "df"
   ]
  },
  {
   "cell_type": "code",
   "execution_count": 6,
   "id": "cde665e6",
   "metadata": {},
   "outputs": [
    {
     "data": {
      "text/plain": [
       "'f6e88dacb59c4c0bb85052cc5f9fd747764ffa044e38ecace89aa17794f4700f'"
      ]
     },
     "execution_count": 6,
     "metadata": {},
     "output_type": "execute_result"
    }
   ],
   "source": [
    "model.session_id"
   ]
  },
  {
   "cell_type": "code",
   "execution_count": null,
   "id": "733ce96c",
   "metadata": {},
   "outputs": [],
   "source": []
  }
 ],
 "metadata": {
  "kernelspec": {
   "display_name": "env",
   "language": "python",
   "name": "python3"
  },
  "language_info": {
   "codemirror_mode": {
    "name": "ipython",
    "version": 3
   },
   "file_extension": ".py",
   "mimetype": "text/x-python",
   "name": "python",
   "nbconvert_exporter": "python",
   "pygments_lexer": "ipython3",
   "version": "3.9.6"
  }
 },
 "nbformat": 4,
 "nbformat_minor": 5
}
