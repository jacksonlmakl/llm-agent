{
 "cells": [
  {
   "cell_type": "code",
   "execution_count": 1,
   "id": "20f3b5ec",
   "metadata": {},
   "outputs": [],
   "source": [
    "from model import Model"
   ]
  },
  {
   "cell_type": "code",
   "execution_count": 2,
   "id": "20e683ae",
   "metadata": {},
   "outputs": [
    {
     "data": {
      "application/vnd.jupyter.widget-view+json": {
       "model_id": "4c625caff328450db00f7a5b3d000136",
       "version_major": 2,
       "version_minor": 0
      },
      "text/plain": [
       "Loading checkpoint shards:   0%|          | 0/2 [00:00<?, ?it/s]"
      ]
     },
     "metadata": {},
     "output_type": "display_data"
    }
   ],
   "source": [
    "m=Model(\"meta-llama/Llama-3.2-3B-Instruct\")"
   ]
  },
  {
   "cell_type": "code",
   "execution_count": 3,
   "id": "abd9859d",
   "metadata": {},
   "outputs": [
    {
     "name": "stdout",
     "output_type": "stream",
     "text": [
      "The city that never sleeps, they say,\n",
      "A place where dreams are made and lost each day.\n",
      "Skyscrapers pierce the urban sky,\n",
      "Concrete jungle stretching far and high.\n",
      "\n",
      "In Times Square's bright lights I roam,\n",
      "Where billboards flash with endless tone.\n",
      "Broadway beckons to my soul,\n",
      "With melodies of love and stories whole.\n",
      "\n",
      "Central Park offers peaceful reprieve from strife,\n",
      "Green oasis amidst steel life.\n",
      "From Brooklyn Bridge to Statue Liberty too,\n",
      "Iconic landmarks stand for me\n"
     ]
    }
   ],
   "source": [
    "r=m.generate(\"Write a poem about New York City\",max_new_tokens=100,temperature=.1)\n",
    "print(r)"
   ]
  },
  {
   "cell_type": "code",
   "execution_count": null,
   "id": "d4145374",
   "metadata": {},
   "outputs": [],
   "source": []
  }
 ],
 "metadata": {
  "kernelspec": {
   "display_name": "env",
   "language": "python",
   "name": "python3"
  },
  "language_info": {
   "codemirror_mode": {
    "name": "ipython",
    "version": 3
   },
   "file_extension": ".py",
   "mimetype": "text/x-python",
   "name": "python",
   "nbconvert_exporter": "python",
   "pygments_lexer": "ipython3",
   "version": "3.9.6"
  }
 },
 "nbformat": 4,
 "nbformat_minor": 5
}
